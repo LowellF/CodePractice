{
 "cells": [
  {
   "cell_type": "code",
   "execution_count": 5,
   "metadata": {
    "collapsed": false
   },
   "outputs": [],
   "source": [
    "#The code below is run to initialize the notebook."
   ]
  },
  {
   "cell_type": "code",
   "execution_count": 6,
   "metadata": {
    "collapsed": false
   },
   "outputs": [
    {
     "name": "stdout",
     "output_type": "stream",
     "text": [
      "setup ran\n"
     ]
    }
   ],
   "source": [
    "#  See OneNote for problems in getting this to run.\n",
    "import sympy as sym\n",
    "import numpy as np\n",
    "import scipy as sp\n",
    "from __future__ import division\n",
    "from matplotlib import pyplot as plt\n",
    "import pandas as pd\n",
    "%matplotlib inline\n",
    "from sympy.interactive import printing\n",
    "printing.init_printing(use_latex = True)\n",
    "from IPython.display import display\n",
    "print 'setup ran'\n",
    "\n",
    "\n"
   ]
  },
  {
   "cell_type": "markdown",
   "metadata": {},
   "source": [
    "# Sprinkler flow"
   ]
  },
  {
   "cell_type": "markdown",
   "metadata": {},
   "source": [
    "Flow by rating of 0 at 8 psi (0.6 bar) or greater, 0.1 gpm (0.02 m3/h; 0.06 l/s) otherwise.  One liter = .264 gaL."
   ]
  },
  {
   "cell_type": "markdown",
   "metadata": {},
   "source": [
    "Therefore, in one hour one sprinkler will deliver $.06*60*60*.264 $ = 57 gallons of water."
   ]
  },
  {
   "cell_type": "code",
   "execution_count": 7,
   "metadata": {
    "collapsed": false
   },
   "outputs": [
    {
     "data": {
      "text/plain": [
       "24.599999999999998"
      ]
     },
     "execution_count": 7,
     "metadata": {},
     "output_type": "execute_result"
    }
   ],
   "source": [
    ".06*60*60*.264\n",
    ".41*60 # .41 gallons/minute time 60 minutes/hr. = 24.6 gallons / hr."
   ]
  },
  {
   "cell_type": "code",
   "execution_count": 8,
   "metadata": {
    "collapsed": false
   },
   "outputs": [
    {
     "data": {
      "text/plain": [
       "137846528820L"
      ]
     },
     "execution_count": 8,
     "metadata": {},
     "output_type": "execute_result"
    }
   ],
   "source": [
    "from scipy.misc import comb\n",
    "comb(40,20,exact = True)  # This is the answer to Euler 15.\n",
    "\n"
   ]
  },
  {
   "cell_type": "markdown",
   "metadata": {},
   "source": [
    "# World Bank  and US Census Data"
   ]
  },
  {
   "cell_type": "code",
   "execution_count": 9,
   "metadata": {
    "collapsed": false
   },
   "outputs": [],
   "source": [
    "inc_quint_2013 =np.array([3.2, 8.4, 14.3, 23, 51.1]) # Income quintiles from 2013 US Census\n",
    "inc_med = 51842  # median household income.\n",
    "gni_2014 = 55230  # US GNI in 2014\n",
    "pop = 318.9e6  # 2014 population of US.\n",
    "gini = 47.7  # 2014\n",
    "wgdp = 77.96e9  # 2014 world GDP\n",
    "hh_size = 2.6  # US average household size.\n",
    "households_us = 133957180  # 2014 households in US\n",
    "hh_inc_quint = np.array([None, 21430, 41167, 68200, 112254])  # Income quintiles, lower limits.  2014 census\n",
    "top_5_inc = 206563  # Lower limit ($'s)for top 5% of earners."
   ]
  },
  {
   "cell_type": "markdown",
   "metadata": {},
   "source": [
    "# Numpy ndarray Practice"
   ]
  },
  {
   "cell_type": "code",
   "execution_count": 10,
   "metadata": {
    "collapsed": false
   },
   "outputs": [
    {
     "name": "stdout",
     "output_type": "stream",
     "text": [
      "type a  <type 'long'>\n",
      "a  10715086071862673209484250490600018105614048117055336074437503883703510511249361224931983788156958581275946729175531468251871452856923140435984577574698574803934567774824230985421074605062371141877954182153046474983581941267398767559165543946077062914571196477686542167660429831652624386837205668069376\n",
      "sum b =  1366\n",
      "type b  <type 'str'>\n",
      "b  10715086071862673209484250490600018105614048117055336074437503883703510511249361224931983788156958581275946729175531468251871452856923140435984577574698574803934567774824230985421074605062371141877954182153046474983581941267398767559165543946077062914571196477686542167660429831652624386837205668069376\n",
      "len(b) =  302\n",
      "size c =  1\n",
      "c =  10715086071862673209484250490600018105614048117055336074437503883703510511249361224931983788156958581275946729175531468251871452856923140435984577574698574803934567774824230985421074605062371141877954182153046474983581941267398767559165543946077062914571196477686542167660429831652624386837205668069376\n",
      "type c =  <type 'numpy.ndarray'>\n"
     ]
    }
   ],
   "source": [
    "def nnp():\n",
    "    import numpy as np\n",
    "    a = 2**1000\n",
    "    print 'type a ',type(a)\n",
    "    print 'a ', a\n",
    "    b = str(a)\n",
    "    sum_b = 0\n",
    "    for i in b:\n",
    "        i = int(i)\n",
    "        sum_b +=i\n",
    "\n",
    "    print 'sum b = ', sum_b\n",
    "\n",
    "    print 'type b ', type(b)\n",
    "    print 'b ', b\n",
    "    print 'len(b) = ',len(b)\n",
    "    c = np.array(b,np.dtype(str),order = \"c\")\n",
    "    print 'size c = ', c.size\n",
    "    print 'c = ', c\n",
    "    print 'type c = ', type(c)\n",
    "nnp()\n",
    "\n"
   ]
  },
  {
   "cell_type": "code",
   "execution_count": 11,
   "metadata": {
    "collapsed": false
   },
   "outputs": [
    {
     "data": {
      "text/plain": [
       "0.75"
      ]
     },
     "execution_count": 11,
     "metadata": {},
     "output_type": "execute_result"
    }
   ],
   "source": [
    "3/4  # To check division"
   ]
  },
  {
   "cell_type": "markdown",
   "metadata": {},
   "source": [
    "# Pandas"
   ]
  },
  {
   "cell_type": "code",
   "execution_count": 12,
   "metadata": {
    "collapsed": true
   },
   "outputs": [],
   "source": [
    "pd.read_table?"
   ]
  },
  {
   "cell_type": "code",
   "execution_count": 13,
   "metadata": {
    "collapsed": false,
    "raw_mimetype": "text/x-python"
   },
   "outputs": [
    {
     "name": "stdout",
     "output_type": "stream",
     "text": [
      "   A         B\n",
      "0  0  0.471435\n",
      "1  1 -1.190976\n",
      "2  2  1.432707\n",
      "3  3 -0.312652\n",
      "4  4 -0.720589\n",
      "5  5  0.887163\n",
      "6  6  0.859588\n",
      "7  7 -0.636524\n",
      "8  8  0.015696\n",
      "9  9 -2.242685\n",
      "     A         B\n",
      "0  NaN       NaN\n",
      "1  NaN       NaN\n",
      "2  1.0  0.237722\n",
      "3  2.0 -0.023640\n",
      "4  3.0  0.133155\n",
      "5  4.0 -0.048693\n",
      "6  5.0  0.342054\n",
      "7  6.0  0.370076\n",
      "8  7.0  0.079587\n",
      "9  8.0 -0.954504\n",
      "r =  Rolling [window=3,center=False,axis=0]\n"
     ]
    }
   ],
   "source": [
    "np.random.seed(1234)\n",
    "df = pd.DataFrame({'A' : range(10), 'B' : np.random.randn(10)})\n",
    "print df\n",
    "print df.rolling(window = 3, center = False).mean()\n",
    "r = df.rolling(window=3)\n",
    "print 'r = ', r\n"
   ]
  },
  {
   "cell_type": "code",
   "execution_count": 14,
   "metadata": {
    "collapsed": false
   },
   "outputs": [
    {
     "name": "stdout",
     "output_type": "stream",
     "text": [
      "The most popular name\n"
     ]
    },
    {
     "data": {
      "text/html": [
       "<div>\n",
       "<table border=\"1\" class=\"dataframe\">\n",
       "  <thead>\n",
       "    <tr style=\"text-align: right;\">\n",
       "      <th></th>\n",
       "      <th>Names</th>\n",
       "      <th>Births</th>\n",
       "    </tr>\n",
       "  </thead>\n",
       "  <tbody>\n",
       "    <tr>\n",
       "      <th>4</th>\n",
       "      <td>Mel</td>\n",
       "      <td>973</td>\n",
       "    </tr>\n",
       "  </tbody>\n",
       "</table>\n",
       "</div>"
      ],
      "text/plain": [
       "  Names  Births\n",
       "4   Mel     973"
      ]
     },
     "execution_count": 14,
     "metadata": {},
     "output_type": "execute_result"
    },
    {
     "data": {
      "image/png": "[encoded data removed]",
      "text/plain": [
       "<matplotlib.figure.Figure at 0x6df5930>"
      ]
     },
     "metadata": {},
     "output_type": "display_data"
    }
   ],
   "source": [
    "names = ['Bob', 'Jessica', 'Mary', 'John', 'Mel']\n",
    "births = [968, 155, 77, 578, 973]\n",
    "BabyDataSet =list(zip(names, births))\n",
    "BabyDataSet\n",
    "df = pd.DataFrame(data = BabyDataSet, columns = ['Names', 'Births'])\n",
    "df.to_csv('births1880.csv', index =False,header=False)\n",
    "df = pd.read_csv('births1880.csv', names = ['Names', 'Births'])\n",
    "df\n",
    "df.dtypes\n",
    "Sorted = df.sort_values(['Births'], ascending = False)\n",
    "Sorted.head(1)\n",
    "df['Births'].max()\n",
    "df['Births'].plot()\n",
    "MaxValue = df['Births'].max()\n",
    "MaxName = df['Names'][df['Births']==df['Births'].max()].values\n",
    "Text = str(MaxValue)+'-' + MaxName\n",
    "plt.annotate(Text, xy = (1, MaxValue), xytext = (8, 0),xycoords=('axes fraction', 'data'), textcoords = 'offset points')\n",
    "print (\"The most popular name\")             \n",
    "df[df['Births']==df['Births'].max()]\n",
    "             \n",
    "                                       \n",
    "                                       \n",
    "                                       "
   ]
  },
  {
   "cell_type": "markdown",
   "metadata": {},
   "source": [
    "# Financial Analysis in Python\n",
    "* From github-jupyter/nbviewer"
   ]
  },
  {
   "cell_type": "code",
   "execution_count": 45,
   "metadata": {
    "collapsed": false
   },
   "outputs": [
    {
     "data": {
      "text/html": [
       "<div>\n",
       "<table border=\"1\" class=\"dataframe\">\n",
       "  <thead>\n",
       "    <tr style=\"text-align: right;\">\n",
       "      <th></th>\n",
       "      <th>Open</th>\n",
       "      <th>High</th>\n",
       "      <th>Low</th>\n",
       "      <th>Close</th>\n",
       "      <th>Volume</th>\n",
       "      <th>Adj Close</th>\n",
       "    </tr>\n",
       "    <tr>\n",
       "      <th>Date</th>\n",
       "      <th></th>\n",
       "      <th></th>\n",
       "      <th></th>\n",
       "      <th></th>\n",
       "      <th></th>\n",
       "      <th></th>\n",
       "    </tr>\n",
       "  </thead>\n",
       "  <tbody>\n",
       "    <tr>\n",
       "      <th>2016-06-17</th>\n",
       "      <td>207.169998</td>\n",
       "      <td>207.199997</td>\n",
       "      <td>205.75</td>\n",
       "      <td>206.520004</td>\n",
       "      <td>117055700</td>\n",
       "      <td>206.520004</td>\n",
       "    </tr>\n",
       "    <tr>\n",
       "      <th>2016-06-20</th>\n",
       "      <td>208.820007</td>\n",
       "      <td>209.610001</td>\n",
       "      <td>207.75</td>\n",
       "      <td>207.850006</td>\n",
       "      <td>79099800</td>\n",
       "      <td>207.850006</td>\n",
       "    </tr>\n",
       "  </tbody>\n",
       "</table>\n",
       "</div>"
      ],
      "text/plain": [
       "                  Open        High     Low       Close     Volume   Adj Close\n",
       "Date                                                                         \n",
       "2016-06-17  207.169998  207.199997  205.75  206.520004  117055700  206.520004\n",
       "2016-06-20  208.820007  209.610001  207.75  207.850006   79099800  207.850006"
      ]
     },
     "execution_count": 45,
     "metadata": {},
     "output_type": "execute_result"
    }
   ],
   "source": [
    "import datetime\n",
    "import pandas_datareader as pdr\n",
    "import pandas_datareader.data as web\n",
    "#spy = web.get_data_yahoo('SPY', start=datetime.datetime(2006, 10, 1))\n",
    "spy = web.get_data_yahoo('SPY', start=datetime.datetime(2016, 6, 17))\n",
    "spy.head()"
   ]
  },
  {
   "cell_type": "markdown",
   "metadata": {
    "collapsed": true
   },
   "source": [
    "# Matplotlib Practice"
   ]
  },
  {
   "cell_type": "code",
   "execution_count": 16,
   "metadata": {
    "collapsed": false
   },
   "outputs": [
    {
     "data": {
      "image/png": "[encoded data removed]",
      "text/plain": [
       "<matplotlib.figure.Figure at 0xe27adb0>"
      ]
     },
     "metadata": {},
     "output_type": "display_data"
    },
    {
     "data": {
      "image/png": "[encoded data removed]",
      "text/plain": [
       "<matplotlib.figure.Figure at 0xe27ae10>"
      ]
     },
     "metadata": {},
     "output_type": "display_data"
    }
   ],
   "source": [
    "plt.plot([1,2,3,4])\n",
    "plt.ylabel ('some numbers')\n",
    "plt.show()\n",
    "A = np.array([[20000,30000, 40000, 50000, 60000],[9000, 40000, 48000, 48000, 55000]]).reshape(\n",
    "5,2)\n",
    "plt.plot(A)\n",
    "plt.ylabel('Income')\n",
    "plt.xlabel ('Household Group')\n",
    "plt.show()\n",
    "plt.close()"
   ]
  },
  {
   "cell_type": "code",
   "execution_count": 17,
   "metadata": {
    "collapsed": false
   },
   "outputs": [
    {
     "name": "stdout",
     "output_type": "stream",
     "text": [
      "[1]\n",
      "[1, 2]\n",
      "[1, 2, 3]\n"
     ]
    }
   ],
   "source": [
    "def f(a, L=[]):\n",
    "    L.append(a)\n",
    "    return L\n",
    "print f(1)\n",
    "print f(2)\n",
    "print f(3)\n",
    "    \n",
    "\n"
   ]
  },
  {
   "cell_type": "code",
   "execution_count": 18,
   "metadata": {
    "collapsed": false
   },
   "outputs": [
    {
     "name": "stdout",
     "output_type": "stream",
     "text": [
      "[1]\n",
      "[2]\n",
      "[3]\n"
     ]
    }
   ],
   "source": [
    "def f(a, L = None):\n",
    "    if L is None:\n",
    "        L = []\n",
    "    L.append(a)\n",
    "    return L\n",
    "print f(1)\n",
    "print f(2)\n",
    "print f(3)\n",
    "    \n"
   ]
  },
  {
   "cell_type": "markdown",
   "metadata": {},
   "source": [
    "\n",
    "## Project Euler Problem 15\n",
    "If it were a binary graph there would be 2**d leaves where d is the depth."
   ]
  },
  {
   "cell_type": "code",
   "execution_count": 19,
   "metadata": {
    "collapsed": false
   },
   "outputs": [
    {
     "name": "stdout",
     "output_type": "stream",
     "text": [
      "[[       3        4        5        6        7]\n",
      " [       9       16       25       36       49]\n",
      " [       2       16      512    65536 33554432]\n",
      " [       6       20       70      252      924]]\n"
     ]
    }
   ],
   "source": [
    "def f(n):\n",
    "   return 2**(n-2)**2\n",
    "   \n",
    "import numpy as np\n",
    "print np.array([[3,4,5,6,7],[n**2 for n in np.arange(3,8)], [f(n)for n in np.arange (3,8)],[6,20,70,252,924]])    \n",
    "\n",
    "\n",
    "\n",
    "    "
   ]
  },
  {
   "cell_type": "code",
   "execution_count": 20,
   "metadata": {
    "collapsed": false
   },
   "outputs": [
    {
     "name": "stdout",
     "output_type": "stream",
     "text": [
      "edges [('a', 'c'), ('c', 'a'), ('c', 'b'), ('c', 'd'), ('c', 'e'), ('b', 'c'), ('b', 'e'), ('e', 'c'), ('e', 'b'), ('d', 'c')]\n",
      "{'a': ['c'], 'c': ['a', 'b', 'd', 'e'], 'b': ['c', 'e'], 'e': ['c', 'b'], 'd': ['c'], 'f': []}\n"
     ]
    }
   ],
   "source": [
    "graph = {'a':['c'],\n",
    "         \"b\":[\"c\", \"e\"],\n",
    "         \"c\":[\"a\", \"b\", \"d\", \"e\"],\n",
    "         \"d\":[\"c\"],\n",
    "         \"e\":[\"c\", \"b\"],\n",
    "         \"f\":[]\n",
    "         }\n",
    "def generate_edges (graph):\n",
    "    edges = []\n",
    "    for node in graph:\n",
    "        for neighbour in graph[node]:\n",
    "            edges.append((node, neighbour))\n",
    "    return edges\n",
    "print 'edges' ,(generate_edges(graph))\n",
    "for foo in [graph]:\n",
    "    print foo\n",
    "stack =[]\n",
    "#print stack.append(iter(graph[\"b\"])) \n"
   ]
  },
  {
   "cell_type": "code",
   "execution_count": 21,
   "metadata": {
    "collapsed": false
   },
   "outputs": [
    {
     "data": {
      "text/plain": [
       "[['A', 'B', 'E', 'F'], ['A', 'C', 'F']]"
      ]
     },
     "execution_count": 21,
     "metadata": {},
     "output_type": "execute_result"
    }
   ],
   "source": [
    "\n",
    "graph = {'A': set(['B', 'C']),\n",
    "         'B': set(['A', 'D', 'E']),\n",
    "         'C': set(['A', 'F']),\n",
    "         'D': set(['B']),\n",
    "         'E': set(['B', 'F']),\n",
    "         'F': set(['C', 'E'])}\n",
    "\n",
    "def dfs_paths(graph, start, goal):\n",
    "    stack = [(start, [start])]  #  The stack consists of a tuple comprised of the start vertex and a path.\n",
    "    while stack:\n",
    "        (vertex, path) = stack.pop()\n",
    "        for next in graph[vertex] - set(path):\n",
    "            if next == goal:\n",
    "                yield path + [next]\n",
    "            else:\n",
    "                stack.append((next, path + [next]))\n",
    "\n",
    "list(dfs_paths(graph, 'A', 'F')) # [['A', 'C', 'F'], ['A', 'B', 'E', 'F']]"
   ]
  },
  {
   "cell_type": "markdown",
   "metadata": {},
   "source": [
    " # dfs Search from page 26 of Python Algorithms:..."
   ]
  },
  {
   "cell_type": "code",
   "execution_count": 22,
   "metadata": {
    "collapsed": false
   },
   "outputs": [
    {
     "data": {
      "text/plain": [
       "<generator object iter_dfs at 0x0E5C7FD0>"
      ]
     },
     "execution_count": 22,
     "metadata": {},
     "output_type": "execute_result"
    }
   ],
   "source": [
    "\n",
    "\n",
    "\n",
    "\n",
    "def iter_dfs():\n",
    "    a, b, c, d, e, f, g, h = range(8)\n",
    "    G =  [b, c, d, e, f],[c, e],[d],[e],[f],[c, g, h],[f, h],[f, g]\n",
    "    S, Q = set(), [] #S is seen set, Q is queue to be visited.\n",
    "    Q.append(s)\n",
    "    print 'Q= ' , [i for i in Q]\n",
    "    while Q:\n",
    "        u = Q.pop()\n",
    "        if u in S:\n",
    "            continue\n",
    "        S.add(u)\n",
    "        Q.extend(G[u])\n",
    "        yield u        \n",
    "    print list(iter_dfs(G,0))  #This is really dfs.\n",
    "    stack = [x for x in iter (G[0])] # iter(G[0]) iterates over the elements of G[0]\n",
    "    print 'stack= ' ,[x for x in stack]\n",
    "    print 'stack = ', stack\n",
    "    print stack[-1]\n",
    "    print 'G[1] = ', G[1]\n",
    "    for node in G:\n",
    "        print 'node ' , node\n",
    "iter_dfs()        \n"
   ]
  },
  {
   "cell_type": "code",
   "execution_count": 23,
   "metadata": {
    "collapsed": false
   },
   "outputs": [
    {
     "name": "stdout",
     "output_type": "stream",
     "text": [
      "[ 1.+2.j]\n"
     ]
    }
   ],
   "source": [
    "x=np.sqrt([ -3.00+4J])\n",
    "print x"
   ]
  },
  {
   "cell_type": "markdown",
   "metadata": {
    "collapsed": false
   },
   "source": [
    "# DFS\n",
    "Based on Listing 5-5 from Python Algorithms.\n",
    "\n",
    " \n",
    "    "
   ]
  },
  {
   "cell_type": "code",
   "execution_count": 24,
   "metadata": {
    "collapsed": false
   },
   "outputs": [
    {
     "data": {
      "text/plain": [
       "[0, 5, 7, 6, 2, 3, 4, 1]"
      ]
     },
     "execution_count": 24,
     "metadata": {},
     "output_type": "execute_result"
    }
   ],
   "source": [
    "a, b, c, d, e, f, g, h = range(8)\n",
    "N = {\n",
    "    a:{b, c, d, e, f},\n",
    "    b:{c, e},\n",
    "    c:{d},\n",
    "    d:{e},\n",
    "    e:{f},\n",
    "    f:{c, g, h},\n",
    "    g:{f, h},\n",
    "    h:{f, g},\n",
    "}\n",
    "a, b, c, d, e, f, g, h = range(8)\n",
    "\n",
    "def iter_dfs(G, s): \n",
    "    S, Q = set(), []\n",
    "    Q.append(s)\n",
    "    while Q:\n",
    "        u = Q.pop()\n",
    "        if u in S:\n",
    "            continue\n",
    "        S.add(u)\n",
    "        Q.extend(G[u])\n",
    "        yield u\n",
    "        \n",
    "list (iter_dfs(N, 0))\n",
    "        \n",
    "    \n",
    "    \n",
    "    "
   ]
  },
  {
   "cell_type": "code",
   "execution_count": 25,
   "metadata": {
    "collapsed": false
   },
   "outputs": [
    {
     "data": {
      "text/plain": [
       "(822309422, 9743299759L)"
      ]
     },
     "execution_count": 25,
     "metadata": {},
     "output_type": "execute_result"
    }
   ],
   "source": [
    "from random import randrange\n",
    "seq = [randrange(10**10) for i in range (100)]\n",
    "dd = float(\"inf\")\n",
    "for x in seq:\n",
    "    for y in seq:\n",
    "        if x ==y:  continue\n",
    "        d = abs(x-y)\n",
    "        xx, yy, dd = x, y, d\n",
    "xx, yy\n"
   ]
  },
  {
   "cell_type": "markdown",
   "metadata": {
    "collapsed": false
   },
   "source": [
    "# A Memoizing Decorator"
   ]
  },
  {
   "cell_type": "code",
   "execution_count": 26,
   "metadata": {
    "collapsed": false
   },
   "outputs": [
    {
     "data": {
      "text/plain": [
       "573147844013817084101L"
      ]
     },
     "execution_count": 26,
     "metadata": {},
     "output_type": "execute_result"
    }
   ],
   "source": [
    "from functools import wraps\n",
    "def memo(func):\n",
    "    cache = {}\n",
    "    @wraps(func)\n",
    "    def wrap(*args):\n",
    "        if args not in cache:\n",
    "            cache[args] = func(*args)\n",
    "        return cache[args]\n",
    "    return wrap\n",
    "\n",
    "@memo\n",
    "def fib(i):  # Fibonacci series examples\n",
    "    if i<2:\n",
    "        return 1\n",
    "    return fib(i-1) + fib(i-2)\n",
    "\n",
    "fib(100)\n",
    "\n",
    "\n",
    "    \n",
    "    \n",
    "\n"
   ]
  },
  {
   "cell_type": "markdown",
   "metadata": {},
   "source": [
    "# Listing 2-1 A Straightforward Adjacency Representation"
   ]
  },
  {
   "cell_type": "code",
   "execution_count": 27,
   "metadata": {
    "collapsed": false
   },
   "outputs": [],
   "source": [
    "a, b, c, d, e, f, g, h = range(8)\n",
    "N = [\n",
    "     {b, c, d, e, f},#a N(v) represents v's neighbors. So N[v] is a set of v's neighbors.\n",
    "      {c,e},        #b\n",
    "      {d},          #c\n",
    "      {e},          #d\n",
    "      {f},          #e\n",
    "      {c, g, h},    #f\n",
    "      {f, h},       #g\n",
    "      {f, g}\n",
    "    ]\n",
    "\n"
   ]
  },
  {
   "cell_type": "code",
   "execution_count": 28,
   "metadata": {
    "collapsed": false
   },
   "outputs": [
    {
     "name": "stdout",
     "output_type": "stream",
     "text": [
      "[2, 3, 4, 5, 6, 7, 8, 21]\n",
      "[2, 3, 4, 5, 6, 7, 8, 21]\n"
     ]
    }
   ],
   "source": [
    "def ins_sort_rec(seq, i):\n",
    "    if i==0:  return\n",
    "    ins_sort_rec(seq, i-1)\n",
    "    j = i\n",
    "    while j >0 and seq[j-1] > seq[j]:\n",
    "        seq[j-1], seq[j] = seq[j], seq[j-1]\n",
    "        j -= 1\n",
    "    return(seq)\n",
    "\n",
    "def ins_sort(seq):\n",
    "    for i in range(1, len(seq)):\n",
    "        j = i\n",
    "        while j >0 and seq[j-1] > seq[j]:\n",
    "            seq[j-1], seq[j] = seq[j], seq[j-1]\n",
    "            j -=1\n",
    "    return (seq)\n",
    "             \n",
    "my_seq = [7, 4, 5, 6, 3, 2, 21,8]\n",
    "rec_sorted_seq = ins_sort_rec(my_seq, 7)\n",
    "print rec_sorted_seq\n",
    "\n",
    "insert_sorted_seq = ins_sort(my_seq)\n",
    "print insert_sorted_seq\n"
   ]
  },
  {
   "cell_type": "code",
   "execution_count": 29,
   "metadata": {
    "collapsed": false
   },
   "outputs": [
    {
     "name": "stdout",
     "output_type": "stream",
     "text": [
      "sum100 =  5050\n",
      "sum 1-10 =  55\n",
      "Gauss answer =  5050\n"
     ]
    }
   ],
   "source": [
    "sum100 = sum(range(101))\n",
    "print \"sum100 = \", sum100\n",
    "print \"sum 1-10 = \", sum (range(11))\n",
    "print \"Gauss answer = \", (10*55)+sum(100*range(10))"
   ]
  },
  {
   "cell_type": "code",
   "execution_count": 30,
   "metadata": {
    "collapsed": false,
    "scrolled": false
   },
   "outputs": [
    {
     "name": "stdout",
     "output_type": "stream",
     "text": [
      "hist =  (array([1, 0, 3, 0, 2, 0, 1, 1]), array([  3.,   4.,   5.,   6.,   7.,   8.,   9.,  10.,  11.]))\n"
     ]
    }
   ],
   "source": [
    "hist = np.histogram([3, 5, 7, 9, 11, 5, 5, 7],bins = 8)\n",
    "print 'hist = ', hist"
   ]
  },
  {
   "cell_type": "code",
   "execution_count": 31,
   "metadata": {
    "collapsed": false
   },
   "outputs": [
    {
     "name": "stdout",
     "output_type": "stream",
     "text": [
      "{11: 1, 9: 1, 3: 1, 5: 3, 7: 2}\n"
     ]
    }
   ],
   "source": [
    "def hst():\n",
    "    t = [3, 5, 7, 9, 11, 5, 5, 7]\n",
    "    hist = {}\n",
    "    for x in t:\n",
    "        hist[x] = hist.get(x,0) + 1\n",
    "    print(hist)\n",
    "hst()"
   ]
  },
  {
   "cell_type": "markdown",
   "metadata": {},
   "source": [
    "####  This is an example of how to use lambda and map.  Useful for calculator type tasks."
   ]
  },
  {
   "cell_type": "code",
   "execution_count": 32,
   "metadata": {
    "collapsed": false
   },
   "outputs": [
    {
     "data": {
      "text/plain": [
       "[0, 1, 4, 9, 16, 25, 36, 49, 64, 81]"
      ]
     },
     "execution_count": 32,
     "metadata": {},
     "output_type": "execute_result"
    }
   ],
   "source": [
    "A = range(10)\n",
    "map(lambda x: x**2, A)\n"
   ]
  },
  {
   "cell_type": "code",
   "execution_count": 33,
   "metadata": {
    "collapsed": false
   },
   "outputs": [
    {
     "data": {
      "text/plain": [
       "[0, 12, 26, 42, 60, 80, 102, 126, 152, 180]"
      ]
     },
     "execution_count": 33,
     "metadata": {},
     "output_type": "execute_result"
    }
   ],
   "source": [
    "B = range(11,21)\n",
    "map(lambda x,y:x*y, A, B)"
   ]
  },
  {
   "cell_type": "code",
   "execution_count": null,
   "metadata": {
    "collapsed": true
   },
   "outputs": [],
   "source": []
  },
  {
   "cell_type": "code",
   "execution_count": 34,
   "metadata": {
    "collapsed": false
   },
   "outputs": [],
   "source": [
    "from scipy import stats"
   ]
  },
  {
   "cell_type": "code",
   "execution_count": 35,
   "metadata": {
    "collapsed": false
   },
   "outputs": [
    {
     "data": {
      "text/plain": [
       "252.0"
      ]
     },
     "execution_count": 35,
     "metadata": {},
     "output_type": "execute_result"
    }
   ],
   "source": [
    "sp.misc.comb(10,5)\n"
   ]
  },
  {
   "cell_type": "code",
   "execution_count": 36,
   "metadata": {
    "collapsed": false
   },
   "outputs": [],
   "source": [
    "from IPython.lib import passwd"
   ]
  },
  {
   "cell_type": "code",
   "execution_count": 37,
   "metadata": {
    "collapsed": false
   },
   "outputs": [
    {
     "name": "stdout",
     "output_type": "stream",
     "text": [
      "C:\\Users\\Lowell\\.ipython\n",
      "C:\\Users\\Lowell\\.ipython\n"
     ]
    }
   ],
   "source": [
    "!ipython locate\n",
    "!ipython locate profile_default"
   ]
  },
  {
   "cell_type": "code",
   "execution_count": 38,
   "metadata": {
    "collapsed": false
   },
   "outputs": [],
   "source": [
    "printing.init_printing(use_latex = True)"
   ]
  },
  {
   "cell_type": "markdown",
   "metadata": {},
   "source": [
    "${1,2}\\cap{2,3}$"
   ]
  },
  {
   "cell_type": "raw",
   "metadata": {},
   "source": [
    "For symbol generation look in sympy.core.symbol.symbols(names, **args)[source]"
   ]
  },
  {
   "cell_type": "code",
   "execution_count": 39,
   "metadata": {
    "collapsed": false
   },
   "outputs": [
    {
     "data": {
      "text/plain": [
       "(a1, a2, a3)"
      ]
     },
     "execution_count": 39,
     "metadata": {},
     "output_type": "execute_result"
    }
   ],
   "source": [
    "sym.symbols('a1:4')\n"
   ]
  },
  {
   "cell_type": "code",
   "execution_count": 40,
   "metadata": {
    "collapsed": false
   },
   "outputs": [
    {
     "name": "stdout",
     "output_type": "stream",
     "text": [
      "Matrix([[78, 24, 42], [26, 86, 2], [86, 38, 96]])\n",
      "Matrix([[78, 26, 86], [24, 86, 38], [42, 2, 96]])\n"
     ]
    }
   ],
   "source": [
    "\n",
    "\n",
    "from sympy.matrices import randMatrix\n",
    "A = randMatrix(3)\n",
    "print A\n",
    "print A.T\n",
    "\n",
    "\n"
   ]
  },
  {
   "cell_type": "markdown",
   "metadata": {},
   "source": [
    "### This is example A-3-3 from Modern Control Engineering, page 107"
   ]
  },
  {
   "cell_type": "code",
   "execution_count": 41,
   "metadata": {
    "collapsed": false
   },
   "outputs": [
    {
     "name": "stdout",
     "output_type": "stream",
     "text": [
      "(x1, x2, x3)\n",
      "b =  (Beta1, Beta2, Beta3)\n",
      "Matrix([[x1], [x2], [x3]])\n",
      "Matrix([[Beta1], [Beta2], [Beta3]])\n",
      "Matrix([[0.0, 1, 0], [0, 0, 1], [-a3, -a2, -a1]])\n"
     ]
    },
    {
     "data": {
      "text/plain": [
       "Matrix([\n",
       "[                   Beta1 + x2],\n",
       "[                   Beta2 + x3],\n",
       "[Beta3 - a1*x3 - a2*x2 - a3*x1]])"
      ]
     },
     "execution_count": 41,
     "metadata": {},
     "output_type": "execute_result"
    }
   ],
   "source": [
    "a1, a2, a3 = sym.symbols('a1:4')\n",
    "x = sym.symbols('x1:4')\n",
    "print x\n",
    "b = sym.symbols('Beta1:4')\n",
    "print 'b = ', b\n",
    "\n",
    "\n",
    "X = sym.Matrix([x]).T\n",
    "print X\n",
    "B = sym.Matrix(b)\n",
    "print B\n",
    "repr(B)\n",
    "\n",
    "A = sym.Matrix ([[0.0, 1, 0],[0, 0, 1], [-a3, -a2, -a1]])\n",
    "print A\n",
    "(A*X)+B\n",
    "\n",
    "\n",
    "\n",
    "            \n"
   ]
  },
  {
   "cell_type": "code",
   "execution_count": null,
   "metadata": {
    "collapsed": false
   },
   "outputs": [],
   "source": []
  },
  {
   "cell_type": "markdown",
   "metadata": {},
   "source": [
    "This expression $\\sqrt{3x-1}+(1+x)^2$ is an example of a TeX inline equation in a sentence."
   ]
  },
  {
   "cell_type": "markdown",
   "metadata": {
    "collapsed": false
   },
   "source": [
    "\n",
    "x**2\n",
    "integrate(x**2,x)\n",
    "Integral(x**2,x) \n"
   ]
  },
  {
   "cell_type": "code",
   "execution_count": 42,
   "metadata": {
    "collapsed": false
   },
   "outputs": [
    {
     "data": {
      "text/plain": [
       "x**3/3"
      ]
     },
     "execution_count": 42,
     "metadata": {},
     "output_type": "execute_result"
    }
   ],
   "source": [
    "x = sym.symbols('x')\n",
    "sym.integrate(x**2,x)\n",
    "      "
   ]
  },
  {
   "cell_type": "code",
   "execution_count": 43,
   "metadata": {
    "collapsed": false
   },
   "outputs": [
    {
     "data": {
      "text/plain": [
       "array([ 0.68346294,  0.71270203,  0.37025075,  0.56119619,  0.50308317,\n",
       "        0.01376845,  0.77282662,  0.88264119,  0.36488598,  0.61539618])"
      ]
     },
     "execution_count": 43,
     "metadata": {},
     "output_type": "execute_result"
    }
   ],
   "source": [
    "np.random.rand(10)"
   ]
  },
  {
   "cell_type": "code",
   "execution_count": 44,
   "metadata": {
    "collapsed": false
   },
   "outputs": [
    {
     "ename": "NameError",
     "evalue": "name 'plot' is not defined",
     "output_type": "error",
     "traceback": [
      "\u001b[1;31m---------------------------------------------------------------------------\u001b[0m",
      "\u001b[1;31mNameError\u001b[0m                                 Traceback (most recent call last)",
      "\u001b[1;32m<ipython-input-44-7d36356d1c91>\u001b[0m in \u001b[0;36m<module>\u001b[1;34m()\u001b[0m\n\u001b[1;32m----> 1\u001b[1;33m \u001b[0mplot\u001b[0m\u001b[1;33m(\u001b[0m\u001b[0mx\u001b[0m\u001b[1;33m,\u001b[0m\u001b[1;33m(\u001b[0m\u001b[0mx\u001b[0m\u001b[1;33m,\u001b[0m\u001b[1;33m-\u001b[0m\u001b[1;36m5\u001b[0m\u001b[1;33m,\u001b[0m\u001b[1;36m5\u001b[0m\u001b[1;33m)\u001b[0m\u001b[1;33m)\u001b[0m\u001b[1;33m\u001b[0m\u001b[0m\n\u001b[0m",
      "\u001b[1;31mNameError\u001b[0m: name 'plot' is not defined"
     ]
    }
   ],
   "source": [
    "plot(x,(x,-5,5))"
   ]
  },
  {
   "cell_type": "code",
   "execution_count": null,
   "metadata": {
    "collapsed": false
   },
   "outputs": [],
   "source": [
    "x = np.arange(10)\n",
    "x"
   ]
  },
  {
   "cell_type": "code",
   "execution_count": null,
   "metadata": {
    "collapsed": false
   },
   "outputs": [],
   "source": [
    "s = sym.symbols('s')"
   ]
  },
  {
   "cell_type": "code",
   "execution_count": null,
   "metadata": {
    "collapsed": false
   },
   "outputs": [],
   "source": [
    "f = sym.symbols('f', cls=sym.Function)\n"
   ]
  },
  {
   "cell_type": "code",
   "execution_count": null,
   "metadata": {
    "collapsed": false
   },
   "outputs": [],
   "source": [
    "f = ((79*s**2)+(916*s) + 1000)/(s(s+10)**3)\n"
   ]
  },
  {
   "cell_type": "code",
   "execution_count": null,
   "metadata": {
    "collapsed": false
   },
   "outputs": [],
   "source": [
    "help(plot)\n",
    "help(apart)\n"
   ]
  },
  {
   "cell_type": "code",
   "execution_count": null,
   "metadata": {
    "collapsed": false
   },
   "outputs": [],
   "source": [
    "x, y, z = sym.symbols('x y z')\n",
    "sym.plot(x**2, (x, -5, 5))"
   ]
  },
  {
   "cell_type": "code",
   "execution_count": null,
   "metadata": {
    "collapsed": false
   },
   "outputs": [],
   "source": [
    "sym.binomial(15,8)"
   ]
  },
  {
   "cell_type": "code",
   "execution_count": null,
   "metadata": {
    "collapsed": false
   },
   "outputs": [],
   "source": [
    "sym.binomial(100,16)*(.1**16)*(1-.1)**(100-16)"
   ]
  },
  {
   "cell_type": "markdown",
   "metadata": {},
   "source": [
    "### Permutations and Combinations\n",
    "* nC is the number of combinations and nP is the number of permutations.\n",
    "* nT is the number of partitions.\n",
    "* This is tricky so read the documentation."
   ]
  },
  {
   "cell_type": "code",
   "execution_count": null,
   "metadata": {
    "collapsed": false
   },
   "outputs": [],
   "source": [
    "from sympy.functions.combinatorial.numbers import nC, nP, nT\n",
    "print 'nP(26,4) = ', nP(26,4)\n",
    "print 'nC(3,2) = ', nC(3,2)\n",
    "print 'nT(6,3) = ', nT(6,3)\n"
   ]
  }
 ],
 "metadata": {
  "kernelspec": {
   "display_name": "Python 2",
   "language": "python",
   "name": "python2"
  },
  "language_info": {
   "codemirror_mode": {
    "name": "ipython",
    "version": 2
   },
   "file_extension": ".py",
   "mimetype": "text/x-python",
   "name": "python",
   "nbconvert_exporter": "python",
   "pygments_lexer": "ipython2",
   "version": "2.7.10"
  }
 },
 "nbformat": 4,
 "nbformat_minor": 0
}
